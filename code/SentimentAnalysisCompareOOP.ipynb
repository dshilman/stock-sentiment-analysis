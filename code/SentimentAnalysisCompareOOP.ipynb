{
 "cells": [
  {
   "cell_type": "markdown",
   "id": "4324b770-d729-48ac-98a5-c0e742a21853",
   "metadata": {},
   "source": [
    "Import"
   ]
  },
  {
   "cell_type": "code",
   "execution_count": null,
   "id": "e5296245-ce1f-4625-a010-506c8db4d149",
   "metadata": {},
   "outputs": [],
   "source": [
    "import sys\n",
    "from sentiment.FinbertSentiment import FinbertSentiment\n",
    "from sentiment.VaderSentiment import VaderSentiment\n",
    "from yahoo_api import API"
   ]
  },
  {
   "cell_type": "code",
   "execution_count": null,
   "id": "c1b085fb-4d3b-4ed0-a30e-671d3b660bde",
   "metadata": {},
   "outputs": [],
   "source": [
    "ticker = 'amzn'"
   ]
  },
  {
   "cell_type": "markdown",
   "id": "64849268-03cf-494e-b058-382e7e2b47b2",
   "metadata": {},
   "source": [
    "Get Data"
   ]
  },
  {
   "cell_type": "code",
   "execution_count": null,
   "id": "c3b76b00-4f89-4c41-afbf-e224cd47d84a",
   "metadata": {},
   "outputs": [],
   "source": [
    "api = API()\n",
    "df = api.get_news(ticker)\n",
    "df.drop(columns = ['Headline + Link'], inplace=True)\n",
    "df"
   ]
  },
  {
   "cell_type": "markdown",
   "id": "5844c5cd-7098-4179-82bc-7650ebf51e00",
   "metadata": {},
   "source": [
    "Finbert Sentiment ML"
   ]
  },
  {
   "cell_type": "code",
   "execution_count": null,
   "id": "222bc514-5fe0-466b-8372-c04f77c97a02",
   "metadata": {},
   "outputs": [],
   "source": [
    "sentiment_f = FinbertSentiment()\n",
    "sentiment_f.set_symbol(ticker)\n",
    "sentiment_f.set_data(df.copy())\n",
    "sentiment_f.calc_sentiment_score()\n",
    "sentiment_f.plot_sentiment()"
   ]
  },
  {
   "cell_type": "code",
   "execution_count": null,
   "id": "1895d32a-e364-4ff3-9da5-43247f5fefe2",
   "metadata": {},
   "outputs": [],
   "source": []
  },
  {
   "cell_type": "markdown",
   "id": "494b507e-87a9-47c2-89fc-04f30efee9b2",
   "metadata": {},
   "source": [
    "Vader Sentiment ML"
   ]
  },
  {
   "cell_type": "code",
   "execution_count": null,
   "id": "659e30dd-17f4-4cee-b0cb-d27b1cf28673",
   "metadata": {},
   "outputs": [],
   "source": [
    "sentiment_v = VaderSentiment()\n",
    "sentiment_v.set_symbol(ticker)\n",
    "sentiment_v.set_data(df.copy())\n",
    "sentiment_v.calc_sentiment_score()\n",
    "sentiment_v.plot_sentiment()"
   ]
  },
  {
   "cell_type": "code",
   "execution_count": null,
   "id": "b596cdb7-fdaa-45a9-940f-66eb9922968f",
   "metadata": {},
   "outputs": [],
   "source": []
  },
  {
   "cell_type": "code",
   "execution_count": null,
   "id": "a1695927-8a80-4dc7-bafd-6614e64b993a",
   "metadata": {},
   "outputs": [],
   "source": []
  }
 ],
 "metadata": {
  "kernelspec": {
   "display_name": "Python 3 (ipykernel)",
   "language": "python",
   "name": "python3"
  },
  "language_info": {
   "codemirror_mode": {
    "name": "ipython",
    "version": 3
   },
   "file_extension": ".py",
   "mimetype": "text/x-python",
   "name": "python",
   "nbconvert_exporter": "python",
   "pygments_lexer": "ipython3",
   "version": "3.11.2"
  },
  "vscode": {
   "interpreter": {
    "hash": "64165854f9cb0fc123cceeb8dae298203ba6c7736a866f7ad272473910cb5ed3"
   }
  }
 },
 "nbformat": 4,
 "nbformat_minor": 5
}
