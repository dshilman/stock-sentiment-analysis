{
 "cells": [
  {
   "cell_type": "code",
   "execution_count": null,
   "id": "e5296245-ce1f-4625-a010-506c8db4d149",
   "metadata": {},
   "outputs": [],
   "source": [
    "import sys\n",
    "from sentiment.algo import FinbertSentiment\n",
    "from yahoo_api import API"
   ]
  },
  {
   "cell_type": "code",
   "execution_count": null,
   "id": "c1b085fb-4d3b-4ed0-a30e-671d3b660bde",
   "metadata": {},
   "outputs": [],
   "source": [
    "ticker = 'aapl'"
   ]
  },
  {
   "cell_type": "code",
   "execution_count": null,
   "id": "c3b76b00-4f89-4c41-afbf-e224cd47d84a",
   "metadata": {},
   "outputs": [],
   "source": [
    "api = API()\n",
    "df = api.get_news(ticker)\n",
    "df.drop(columns = ['Headline + Link'], inplace=True)\n",
    "df"
   ]
  },
  {
   "cell_type": "code",
   "execution_count": null,
   "id": "222bc514-5fe0-466b-8372-c04f77c97a02",
   "metadata": {},
   "outputs": [],
   "source": [
    "sentiment = FinbertSentiment()\n",
    "sentiment.set_symbol(ticker)"
   ]
  },
  {
   "cell_type": "code",
   "execution_count": null,
   "id": "cb2e0c7e-0b92-4e27-b08c-62a02d980371",
   "metadata": {},
   "outputs": [],
   "source": [
    "sentiment.set_data(df)\n",
    "sentiment.calc_sentiment_score()\n",
    "sentiment.df"
   ]
  },
  {
   "cell_type": "code",
   "execution_count": null,
   "id": "1895d32a-e364-4ff3-9da5-43247f5fefe2",
   "metadata": {},
   "outputs": [],
   "source": [
    "sentiment.plot_sentiment()"
   ]
  }
 ],
 "metadata": {
  "kernelspec": {
   "display_name": "Python 3 (ipykernel)",
   "language": "python",
   "name": "python3"
  },
  "language_info": {
   "codemirror_mode": {
    "name": "ipython",
    "version": 3
   },
   "file_extension": ".py",
   "mimetype": "text/x-python",
   "name": "python",
   "nbconvert_exporter": "python",
   "pygments_lexer": "ipython3",
   "version": "3.11.2"
  },
  "vscode": {
   "interpreter": {
    "hash": "64165854f9cb0fc123cceeb8dae298203ba6c7736a866f7ad272473910cb5ed3"
   }
  }
 },
 "nbformat": 4,
 "nbformat_minor": 5
}
