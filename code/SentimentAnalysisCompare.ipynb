{
 "cells": [
  {
   "cell_type": "markdown",
   "id": "f216dd76-7d33-44ae-bacd-16678c340289",
   "metadata": {},
   "source": [
    "imports"
   ]
  },
  {
   "cell_type": "code",
   "execution_count": null,
   "id": "f48f1300-7759-415c-92e2-a0bd57e50102",
   "metadata": {},
   "outputs": [],
   "source": [
    "from yahoo_api import API\n",
    "import nltk\n",
    "import nltk.sentiment.util\n",
    "import pandas as pd\n",
    "from nltk.sentiment.vader import SentimentIntensityAnalyzer\n",
    "from transformers import pipeline"
   ]
  },
  {
   "cell_type": "markdown",
   "id": "e480e8ee-c6c8-44ad-977a-a034f92926d2",
   "metadata": {},
   "source": [
    "set ticker value"
   ]
  },
  {
   "cell_type": "code",
   "execution_count": null,
   "id": "dfab149d-a190-425f-8f69-d68c6b92ccb2",
   "metadata": {},
   "outputs": [],
   "source": [
    "ticker = 'aapl'"
   ]
  },
  {
   "cell_type": "markdown",
   "id": "6d43632a-d63a-441f-a189-1d305183131f",
   "metadata": {},
   "source": [
    "Get news pandas dataframe from Yahoo API"
   ]
  },
  {
   "cell_type": "code",
   "execution_count": null,
   "id": "c2a5409c-f4bf-4273-9ffb-5ab166fb5088",
   "metadata": {},
   "outputs": [],
   "source": [
    "api = API()\n",
    "df = api.get_news(ticker)\n",
    "df.drop(columns = ['Headline + Link'], inplace=True)\n",
    "df"
   ]
  },
  {
   "cell_type": "markdown",
   "id": "41a5defb-5e92-44a7-80ba-10d590db9660",
   "metadata": {},
   "source": [
    "download the latest Vader ML algorithm"
   ]
  },
  {
   "cell_type": "code",
   "execution_count": null,
   "id": "1895d32a-e364-4ff3-9da5-43247f5fefe2",
   "metadata": {},
   "outputs": [],
   "source": [
    "nltk.downloader.download('vader_lexicon')"
   ]
  },
  {
   "cell_type": "markdown",
   "id": "d4f19909-6841-435c-923c-33c4c26c267f",
   "metadata": {},
   "source": [
    "download the latest Finbert ML algorithm"
   ]
  },
  {
   "cell_type": "code",
   "execution_count": null,
   "id": "ec9ebac0-f2e3-4b6e-bbf6-ac7b5c289aef",
   "metadata": {},
   "outputs": [],
   "source": [
    "_sentiment_analysis = pipeline(\"sentiment-analysis\",model=\"ProsusAI/finbert\")"
   ]
  },
  {
   "cell_type": "markdown",
   "id": "e2eedb49-336a-4153-a9af-d8c88bd54faf",
   "metadata": {},
   "source": [
    "Perform sentiment analysis using Vader ML"
   ]
  },
  {
   "cell_type": "code",
   "execution_count": null,
   "id": "da56353f-b178-47e7-b628-27dff4b0a4f7",
   "metadata": {},
   "outputs": [],
   "source": [
    "vader = SentimentIntensityAnalyzer()\n",
    "# self._df['Headline'].apply(vader.polarity_scores)\n",
    "df ['vader_sentiment'] = df['Headline'].apply(vader.polarity_scores)\n",
    "df"
   ]
  },
  {
   "cell_type": "markdown",
   "id": "3410897e-adba-4cee-8ee9-a2fc99138f09",
   "metadata": {},
   "source": [
    "Perform sentiment analysis using Finbert ML"
   ]
  },
  {
   "cell_type": "code",
   "execution_count": null,
   "id": "477de8b2-7fc8-47f5-b547-3ff61d70953e",
   "metadata": {},
   "outputs": [],
   "source": [
    "df['finbert_sentiment'] = df['Headline'].apply(_sentiment_analysis)\n",
    "df"
   ]
  },
  {
   "cell_type": "markdown",
   "id": "a9ce16f5-9737-49b7-a67e-54a7ad953733",
   "metadata": {},
   "source": [
    "Get # Get finbert sentiment integer Score"
   ]
  },
  {
   "cell_type": "markdown",
   "id": "f511b45b-a45d-403f-8652-0fc8aab794b5",
   "metadata": {},
   "source": [
    "Calculate a float score value"
   ]
  },
  {
   "cell_type": "code",
   "execution_count": null,
   "id": "9d34d3bf-7a75-4fda-902c-f1201b2a8703",
   "metadata": {},
   "outputs": [],
   "source": [
    "print(df.iloc[0]['finbert_sentiment'])"
   ]
  },
  {
   "cell_type": "code",
   "execution_count": null,
   "id": "34a071e1-c364-4106-9512-62d2daa656e3",
   "metadata": {},
   "outputs": [],
   "source": [
    "df['finbert_sentiment_score'] = df['finbert_sentiment'].apply(lambda x: {x[0]['label']=='negative': -1, x[0]['label']=='positive': 1}.get(True, 0) * x[0]['score'])\n",
    "df"
   ]
  },
  {
   "cell_type": "markdown",
   "id": "925c2077-c4a1-4d53-8425-876048117f0b",
   "metadata": {},
   "source": [
    "Calculate a float score value"
   ]
  },
  {
   "cell_type": "code",
   "execution_count": null,
   "id": "97f3d707-3e61-471a-a228-53c684a4191c",
   "metadata": {},
   "outputs": [],
   "source": [
    "print(df.iloc[1]['vader_sentiment'])"
   ]
  },
  {
   "cell_type": "code",
   "execution_count": null,
   "id": "d79b04a4-30b1-4231-a731-b4d6d493c540",
   "metadata": {},
   "outputs": [],
   "source": [
    "df['vader_sentiment_score'] = df['vader_sentiment'].apply(lambda x: x['compound'])"
   ]
  },
  {
   "cell_type": "markdown",
   "id": "dce05bcc-f5e3-40bf-9ec1-44776c2a7235",
   "metadata": {},
   "source": [
    "Compare results"
   ]
  },
  {
   "cell_type": "code",
   "execution_count": null,
   "id": "ca033259-cfb3-4537-98cd-f424ca3e9a1a",
   "metadata": {},
   "outputs": [],
   "source": [
    "df"
   ]
  }
 ],
 "metadata": {
  "kernelspec": {
   "display_name": "Python 3 (ipykernel)",
   "language": "python",
   "name": "python3"
  },
  "language_info": {
   "codemirror_mode": {
    "name": "ipython",
    "version": 3
   },
   "file_extension": ".py",
   "mimetype": "text/x-python",
   "name": "python",
   "nbconvert_exporter": "python",
   "pygments_lexer": "ipython3",
   "version": "3.11.2"
  },
  "vscode": {
   "interpreter": {
    "hash": "64165854f9cb0fc123cceeb8dae298203ba6c7736a866f7ad272473910cb5ed3"
   }
  }
 },
 "nbformat": 4,
 "nbformat_minor": 5
}
